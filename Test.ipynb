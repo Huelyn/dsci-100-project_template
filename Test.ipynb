{
 "cells": [
  {
   "cell_type": "markdown",
   "id": "ff8ac641-4ecc-473e-95ad-520c199ba18e",
   "metadata": {},
   "source": [
    "# Title"
   ]
  },
  {
   "cell_type": "markdown",
   "id": "0da17d9e-464d-43bc-a00b-bce816d7f5ed",
   "metadata": {},
   "source": [
    "We need to do some work"
   ]
  },
  {
   "cell_type": "code",
   "execution_count": 7,
   "id": "9ddc5b1f-393b-4cdc-a332-99033601a04d",
   "metadata": {},
   "outputs": [],
   "source": [
    "a <- 1"
   ]
  },
  {
   "cell_type": "code",
   "execution_count": 8,
   "id": "c9ab8e4d-547e-4578-a34c-b530b64f9765",
   "metadata": {},
   "outputs": [
    {
     "data": {
      "text/html": [
       "2"
      ],
      "text/latex": [
       "2"
      ],
      "text/markdown": [
       "2"
      ],
      "text/plain": [
       "[1] 2"
      ]
     },
     "metadata": {},
     "output_type": "display_data"
    }
   ],
   "source": [
    "a + a"
   ]
  },
  {
   "cell_type": "code",
   "execution_count": 9,
   "id": "732c32f1-e6d6-486b-bea6-bf30ae3140cf",
   "metadata": {},
   "outputs": [
    {
     "data": {
      "text/html": [
       "1"
      ],
      "text/latex": [
       "1"
      ],
      "text/markdown": [
       "1"
      ],
      "text/plain": [
       "[1] 1"
      ]
     },
     "metadata": {},
     "output_type": "display_data"
    }
   ],
   "source": [
    "a"
   ]
  }
 ],
 "metadata": {
  "kernelspec": {
   "display_name": "R",
   "language": "R",
   "name": "ir"
  },
  "language_info": {
   "codemirror_mode": "r",
   "file_extension": ".r",
   "mimetype": "text/x-r-source",
   "name": "R",
   "pygments_lexer": "r",
   "version": "4.3.1"
  }
 },
 "nbformat": 4,
 "nbformat_minor": 5
}
